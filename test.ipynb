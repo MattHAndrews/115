{
 "cells": [
  {
   "cell_type": "markdown",
   "metadata": {},
   "source": [
    "# Table of Contents:\n",
    "* [0 -Importing Libraries](#0)\n",
    "* [1 - Read in data](#1)\n",
    "* [2 - SIR](#2)\n",
    "* [3 - Descriptive Facts](#3)\n",
    "* [4 - Prepare the dataset (change in turnout)](#4)\n",
    "* [5 - Regressions](#5)"
   ]
  },
  {
   "cell_type": "markdown",
   "metadata": {},
   "source": [
    "# 0) Imports <a class=\"anchor\" id=\"0\"></a>"
   ]
  },
  {
   "cell_type": "code",
   "execution_count": 32,
   "metadata": {},
   "outputs": [],
   "source": [
    "import pandas as pd\n",
    "import numpy as np\n",
    "from numpy import nan\n",
    "from scipy.integrate import odeint\n",
    "import matplotlib.pyplot as plt\n",
    "import ast  "
   ]
  },
  {
   "cell_type": "markdown",
   "metadata": {},
   "source": [
    "# 1) Read in data <a class=\"anchor\" id=\"1\"></a>"
   ]
  },
  {
   "cell_type": "code",
   "execution_count": 19,
   "metadata": {},
   "outputs": [],
   "source": [
    "# Initialize an empty list to store the data\n",
    "data = []\n",
    "\n",
    "# Define keys based on the dataset format\n",
    "keys = ['#*', '#@', '#t', '#c', '#index', '#%', '#!']\n",
    "\n",
    "# Open the file and read the contents\n",
    "with open('small.txt', 'r', encoding='ISO-8859-1') as file:\n",
    "    current_paper = {}\n",
    "    for line in file:\n",
    "        line = line.strip()\n",
    "        if line.startswith('#*'):\n",
    "            # New paper starts; save the previous one if it exists\n",
    "            if current_paper:\n",
    "                data.append(current_paper)\n",
    "                current_paper = {}\n",
    "            current_paper['Title'] = line[2:].strip()\n",
    "        elif line.startswith('#@'):\n",
    "            current_paper['Authors'] = line[2:].strip()\n",
    "        elif line.startswith('#t'):\n",
    "            current_paper['Year'] = line[2:].strip()\n",
    "        elif line.startswith('#c'):\n",
    "            current_paper['Venue'] = line[2:].strip()\n",
    "        elif line.startswith('#index'):\n",
    "            current_paper['Index ID'] = line[6:].strip()\n",
    "        elif line.startswith('#%'):\n",
    "            if 'References' not in current_paper:\n",
    "                current_paper['References'] = []\n",
    "            current_paper['References'].append(line[2:].strip())\n",
    "        elif line.startswith('#!'):\n",
    "            current_paper['Abstract'] = line[2:].strip()\n",
    "        elif line.isdigit() and current_paper:  # Handle end of current paper\n",
    "            data.append(current_paper)\n",
    "            current_paper = {}\n",
    "    # Add the last paper\n",
    "    if current_paper:\n",
    "        data.append(current_paper)\n",
    "\n",
    "# Convert list of dicts to DataFrame\n",
    "df = pd.DataFrame(data)\n",
    "\n",
    "# Replacing missing keys with None which becomes NaN in DataFrame\n",
    "for key in ['Title', 'Authors', 'Year', 'Venue', 'Index ID', 'References', 'Abstract']:\n",
    "    if key not in df.columns:\n",
    "        df[key] = None"
   ]
  },
  {
   "cell_type": "code",
   "execution_count": 42,
   "metadata": {},
   "outputs": [],
   "source": [
    "df['Year'] = pd.to_numeric(df['Year'], errors='coerce')\n",
    "df['Index ID'] = pd.to_numeric(df['Index ID'], errors='coerce')\n",
    "# Apply the function to the DataFrame column\n",
    "df['References'] = df['References'].apply(\n",
    "    lambda x: [int(i) for i in x] if isinstance(x, list) else x\n",
    ")"
   ]
  },
  {
   "cell_type": "markdown",
   "metadata": {},
   "source": [
    "Last Cited Year (for SIR)"
   ]
  },
  {
   "cell_type": "code",
   "execution_count": 48,
   "metadata": {},
   "outputs": [],
   "source": [
    "# Creating a dictionary from the DataFrame assuming 'Index ID' and 'Year' are columns in your DataFrame\n",
    "year_dict = df.set_index('Index ID')['Year'].to_dict()\n",
    "\n",
    "def get_last_cited_year(ref_ids):\n",
    "    if not isinstance(ref_ids, list):\n",
    "        return np.nan\n",
    "    # Filter and collect years where reference IDs exist in year_dict\n",
    "    years = [year_dict.get(int(ref_id)) for ref_id in ref_ids if int(ref_id) in year_dict]\n",
    "    return max(years) if years else np.nan\n",
    "\n",
    "# Apply the function to the 'References' column to compute the 'Last Cited Year'\n",
    "df['Last Cited Year'] = df['References'].apply(get_last_cited_year)"
   ]
  },
  {
   "cell_type": "code",
   "execution_count": 51,
   "metadata": {},
   "outputs": [],
   "source": [
    "df.iloc[:100].to_csv('small.csv', index=False)"
   ]
  },
  {
   "cell_type": "markdown",
   "metadata": {},
   "source": [
    "# 2) SIR model <a class=\"anchor\" id=\"2\"></a>"
   ]
  },
  {
   "cell_type": "markdown",
   "metadata": {},
   "source": [
    "To estimate the initial conditions and parameters (such as \\(S_0\\), \\(I_0\\), \\(R_0\\), \\(\\beta\\), and \\(\\gamma\\)) from your dataset for modeling the spread of ideas using the SIR model, you should analyze the data you have available, especially focusing on how widely and quickly ideas (represented by citations) are adopted and discarded. Here’s how you could approach this:\n",
    "\n",
    "### Estimating Initial Conditions and Parameters:\n",
    "\n",
    "1. **Estimate \\(I_0\\) (Initial Infected):**\n",
    "   - Identify seminal papers or early influential works. For example, papers that are among the first to cite a particular idea or methodology.\n",
    "   - \\(I_0\\) could be the count of these papers or authors in the earliest time period you are examining.\n",
    "\n",
    "2. **Estimate \\(S_0\\) (Initial Susceptible):**\n",
    "   - Consider the total potential audience for the idea. This might be approximated by the number of authors in the field or related fields during the time period of your analysis.\n",
    "   - Subtract \\(I_0\\) from this total to get \\(S_0\\).\n",
    "\n",
    "3. **Estimate \\(R_0\\) (Initial Recovered):**\n",
    "   - Initially, \\(R_0\\) could be zero unless you have data from before the start of your study period indicating researchers who have ceased to contribute to the field.\n",
    "\n",
    "4. **Estimate \\(\\beta\\) (Transmission Rate):**\n",
    "   - Analyze the average number of times the seminal papers are cited by new papers per year. This rate could provide a proxy for \\(\\beta\\), indicating the likelihood of a susceptible researcher adopting the idea after encountering it.\n",
    "\n",
    "5. **Estimate \\(\\gamma\\) (Recovery Rate):**\n",
    "   - Determine the typical duration over which researchers continue to publish on the idea before moving on to other topics. For instance, if researchers typically stop citing the original papers after about 5 years, then \\(\\gamma\\) could be approximated as 1/5 per year.\n",
    "\n",
    "### Putting It into Code:\n",
    "Now let's assume you have some values based on the above estimations and how you might put them into code using a hypothetical scenario.\n",
    "\n",
    "In this setup:\n",
    "- The `total_authors` might be estimated from your data or relevant literature.\n",
    "- `initial_influential_papers` is based on an examination of the earliest influential works (you would need to analyze the data to find these).\n",
    "- `beta` and `gamma` are hypothetical and should be refined with real data or expert input from the specific academic field.\n",
    "\n",
    "This code provides a basic simulation; the parameters and initial conditions would need to be adapted based on deeper data analysis and domain-specific knowledge about the spread of ideas in the field you are studying."
   ]
  },
  {
   "cell_type": "code",
   "execution_count": 8,
   "metadata": {},
   "outputs": [],
   "source": [
    "def sir_model(y, t, beta, gamma):\n",
    "    S, I, R = y\n",
    "    dS_dt = -beta * S * I\n",
    "    dI_dt = beta * S * I - gamma * I\n",
    "    dR_dt = gamma * I\n",
    "    return [dS_dt, dI_dt, dR_dt]"
   ]
  },
  {
   "cell_type": "code",
   "execution_count": 12,
   "metadata": {},
   "outputs": [],
   "source": [
    "# Calculate total authors\n",
    "df['Authors'] = df['Authors'].fillna('')  # Fill empty strings where there are no authors\n",
    "unique_authors = set()\n",
    "df['Authors'].apply(lambda x: unique_authors.update(x.split(',')) if x else None)\n",
    "total_authors = len(unique_authors) - 1 if '' in unique_authors else len(unique_authors)\n",
    "\n",
    "# Identify influential papers\n",
    "df['Is Influential'] = df['References'].apply(lambda x: len(x) if isinstance(x, list) else 0)\n",
    "initial_influential_papers = df[df['Is Influential'] > 0]['Year'].min()  # Find the earliest year of influential papers\n",
    "influential_count = df[(df['Year'] == initial_influential_papers) & (df['Is Influential'] > 0)].shape[0]"
   ]
  },
  {
   "cell_type": "code",
   "execution_count": null,
   "metadata": {},
   "outputs": [],
   "source": [
    "# Set initial conditions for the SIR model\n",
    "S0 = total_authors - influential_count  # Susceptible researchers\n",
    "I0 = influential_count  # Infected/influential researchers\n",
    "R0 = 0  # Initially no recovered"
   ]
  },
  {
   "cell_type": "markdown",
   "metadata": {},
   "source": [
    "Estimate Beta"
   ]
  },
  {
   "cell_type": "code",
   "execution_count": 18,
   "metadata": {},
   "outputs": [],
   "source": [
    "# Here, we'll create a simplified version assuming the 'References' column lists IDs of papers this paper cites:\n",
    "citation_counts = df['References'].apply(lambda x: len(x) if isinstance(x, list) else 0)\n",
    "average_citations_per_year = citation_counts.mean() / (2022 - df['Year'].min())\n",
    "\n",
    "# Adjust for number of authors (assuming split by commas, and ignoring papers with no authors listed)\n",
    "df['Author Count'] = df['Authors'].apply(lambda x: len(x.split(',')) if x else 0)\n",
    "average_authors_per_paper = df['Author Count'].mean()\n",
    "\n",
    "# Calculate beta as the average citation rate per author per year\n",
    "beta = average_citations_per_year / average_authors_per_paper"
   ]
  },
  {
   "cell_type": "markdown",
   "metadata": {},
   "source": [
    "Estimate gamma"
   ]
  },
  {
   "cell_type": "code",
   "execution_count": 49,
   "metadata": {},
   "outputs": [],
   "source": [
    "# Calculate lifespan of citations\n",
    "df['Citation Lifespan'] = df['Last Cited Year'] - df['Year']\n",
    "average_citation_lifespan = df['Citation Lifespan'].mean()\n",
    "\n",
    "# Calculate gamma as the reciprocal of the average lifespan\n",
    "gamma = 1 / average_citation_lifespan"
   ]
  },
  {
   "cell_type": "code",
   "execution_count": 50,
   "metadata": {},
   "outputs": [
    {
     "data": {
      "image/png": "[encoded data removed]",
      "text/plain": [
       "<Figure size 1200x600 with 1 Axes>"
      ]
     },
     "metadata": {},
     "output_type": "display_data"
    }
   ],
   "source": [
    "# Initial conditions vector\n",
    "y0 = [S0, I0, R0]\n",
    "\n",
    "# Time points\n",
    "t = np.linspace(0, 50, 1000)  # Simulate over 50 years\n",
    "\n",
    "# Integrate the SIR equations over the time grid t\n",
    "solution = odeint(sir_model, y0, t, args=(beta, gamma))\n",
    "solution = np.array(solution)\n",
    "\n",
    "# Plotting\n",
    "plt.figure(figsize=(12, 6))\n",
    "plt.plot(t, solution[:, 0], label='Susceptible')\n",
    "plt.plot(t, solution[:, 1], label='Infected')\n",
    "plt.plot(t, solution[:, 2], label='Recovered')\n",
    "plt.title('SIR Model for the Spread of Ideas')\n",
    "plt.xlabel('Time (years)')\n",
    "plt.ylabel('Number of Researchers')\n",
    "plt.legend()\n",
    "plt.grid(True)\n",
    "plt.show()"
   ]
  },
  {
   "cell_type": "code",
   "execution_count": null,
   "metadata": {},
   "outputs": [],
   "source": []
  }
 ],
 "metadata": {
  "kernelspec": {
   "display_name": "Python 3",
   "language": "python",
   "name": "python3"
  },
  "language_info": {
   "codemirror_mode": {
    "name": "ipython",
    "version": 3
   },
   "file_extension": ".py",
   "mimetype": "text/x-python",
   "name": "python",
   "nbconvert_exporter": "python",
   "pygments_lexer": "ipython3",
   "version": "3.12.2"
  }
 },
 "nbformat": 4,
 "nbformat_minor": 2
}
